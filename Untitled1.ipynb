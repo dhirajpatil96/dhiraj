{
 "cells": [
  {
   "cell_type": "code",
   "execution_count": 8,
   "id": "42e604dc-b38e-4e2c-9ab8-30ec01b1232f",
   "metadata": {},
   "outputs": [
    {
     "name": "stdout",
     "output_type": "stream",
     "text": [
      "[34, 38, 4, 2, 8, 56, 16, 44]\n"
     ]
    }
   ],
   "source": [
    "import random\n",
    "random_numbers = [random.randint(1, 100) for _ in range(20)]\n",
    "even_numbers = [num for num in random_numbers if num % 2 == 0]\n",
    "print(even_numbers)\n"
   ]
  },
  {
   "cell_type": "code",
   "execution_count": 10,
   "id": "1e770381-da88-493d-8bb5-f9b8db63e0d7",
   "metadata": {},
   "outputs": [
    {
     "name": "stdout",
     "output_type": "stream",
     "text": [
      "Reversed string: .tset a si siht ,dlrow olleH\n",
      "Reversed words string: test. a is this world, Hello\n"
     ]
    }
   ],
   "source": [
    "original_string = \"Hello world, this is a test.\"\n",
    "reversed_string = original_string[::-1]\n",
    "words = original_string.split()\n",
    "reversed_words_string = ' '.join(words[::-1])\n",
    "print(\"Reversed string:\", reversed_string)\n",
    "print(\"Reversed words string:\", reversed_words_string)\n"
   ]
  },
  {
   "cell_type": "code",
   "execution_count": null,
   "id": "950dc9fb-9e00-485d-a663-41b8d52f2d13",
   "metadata": {},
   "outputs": [],
   "source": []
  }
 ],
 "metadata": {
  "kernelspec": {
   "display_name": "Python [conda env:base] *",
   "language": "python",
   "name": "conda-base-py"
  },
  "language_info": {
   "codemirror_mode": {
    "name": "ipython",
    "version": 3
   },
   "file_extension": ".py",
   "mimetype": "text/x-python",
   "name": "python",
   "nbconvert_exporter": "python",
   "pygments_lexer": "ipython3",
   "version": "3.12.7"
  }
 },
 "nbformat": 4,
 "nbformat_minor": 5
}
